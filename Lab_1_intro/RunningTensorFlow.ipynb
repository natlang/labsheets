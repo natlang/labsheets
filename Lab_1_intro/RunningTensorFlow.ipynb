{
 "cells": [
  {
   "cell_type": "markdown",
   "metadata": {},
   "source": [
    "### Lab 0 - extra - Simple  TensorFlow  script on BlueCrystal 4\n",
    "\n",
    "In order to make sure that BlueCrystal4 (BC4) will handle the coming lab sessions smoothly, follow the next steps to train and test a simple classifier implemented on TensorFlow.\n",
    "\n",
    "1. Copy the files ```testing_tensorflow.sh```  and ```testing_tensorflow.py``` to your BC4 account by using the command ```scp``` as shown below: \n",
    "\n",
    "    **```scp  /path_to_files/testing_tensorflow.sh < your_UoB_ID >@bc4login.acrc.bris.ac.uk:```**\n",
    "    \n",
    "    **```scp  /path_to_files/testing_tensorflow.py < your_UoB_ID >@bc4login.acrc.bris.ac.uk:```**\n",
    "    \n",
    "2. Open a terminal window and login to BC4 via ssh:\n",
    "\n",
    "    **```ssh  <USER_NAME>@bc4login.acrc.bris.ac.uk```**\n",
    "\n",
    "3. Type  **```chmod +x testing_tensorflow.sh```**  and execute the script by typing **```./testing_tensorflow.sh```**. It might take a minute or two before you can see the next output on your Terminal, this is considered normal behaviour."
   ]
  },
  {
   "cell_type": "markdown",
   "metadata": {},
   "source": [
    "```bash\n",
    "$$$ $ $ .$ .$ ./$ ./$ ./t$ ./t$ ./te$ ./te$ ./tes$ ./tes$ ./test$ ./test$ ./testi$ ./testi$ ./testin$ ./testing_tensorflow.sh\n",
    "2017-10-05 18:11:54.931350: I tensorflow/core/common_runtime/gpu/gpu_device.cc:938] Found device 0 with properties: \n",
    "name: Tesla P100-PCIE-16GB\n",
    "major: 6 minor: 0 memoryClockRate (GHz) 1.3285\n",
    "pciBusID 0000:06:00.0\n",
    "Total memory: 15.89GiB\n",
    "Free memory: 15.60GiB\n",
    "2017-10-05 18:11:54.931436: I tensorflow/core/common_runtime/gpu/gpu_device.cc:959] DMA: 0 \n",
    "2017-10-05 18:11:54.931451: I tensorflow/core/common_runtime/gpu/gpu_device.cc:969] 0:   Y \n",
    "2017-10-05 18:11:54.931471: I tensorflow/core/common_runtime/gpu/gpu_device.cc:1028] Creating TensorFlow device (/gpu:0) -> (device: 0, name: Tesla P100-PCIE-16GB, pci bus id: 0000:06:00.0)\n",
    "Running test: \n",
    "[--------------------]\n",
    "Test completed, everything looks good!\n",
    "```\n"
   ]
  },
  {
   "cell_type": "markdown",
   "metadata": {},
   "source": [
    "If an error appears at any point please let us know, otherwise type ** ```exit```** on your terminal window to go back to your home directory in your BC4 session and releasing the GPU at the same time. After that you can type **```exit```** again to close the SSH conection and conitnuing with the Python Lab Tutorial. "
   ]
  },
  {
   "cell_type": "code",
   "execution_count": null,
   "metadata": {
    "collapsed": true
   },
   "outputs": [],
   "source": []
  }
 ],
 "metadata": {
  "kernelspec": {
   "display_name": "Python 2",
   "language": "python",
   "name": "python2"
  },
  "language_info": {
   "codemirror_mode": {
    "name": "ipython",
    "version": 2
   },
   "file_extension": ".py",
   "mimetype": "text/x-python",
   "name": "python",
   "nbconvert_exporter": "python",
   "pygments_lexer": "ipython2",
   "version": "2.7.14"
  }
 },
 "nbformat": 4,
 "nbformat_minor": 2
}
